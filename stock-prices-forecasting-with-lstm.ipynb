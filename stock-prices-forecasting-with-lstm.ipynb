{
 "cells": [
  {
   "cell_type": "markdown",
   "metadata": {
    "papermill": {
     "duration": 0.019801,
     "end_time": "2023-04-08T14:09:25.933097",
     "exception": false,
     "start_time": "2023-04-08T14:09:25.913296",
     "status": "completed"
    },
    "tags": []
   },
   "source": [
    "<div align='center'><font size=\"5\" color='#353B47'>Predicting Stock Prices</font></div>\n",
    "<div align='center'><font size=\"4\" color=\"#353B47\">How to use LSTMs</font></div>\n",
    "<br>\n",
    "<hr>"
   ]
  },
  {
   "cell_type": "markdown",
   "metadata": {
    "papermill": {
     "duration": 0.018683,
     "end_time": "2023-04-08T14:09:26.116900",
     "exception": false,
     "start_time": "2023-04-08T14:09:26.098217",
     "status": "completed"
    },
    "tags": []
   },
   "source": [
    "## <div id=\"summary\">Summary</div>\n",
    "\n",
    "**<font size=\"2\"><a href=\"#chap1\">1. Import libraries</a></font>**\n",
    "**<br><font size=\"2\"><a href=\"#chap2\">2. Preprocessing</a></font>**\n",
    "**<br><font size=\"2\"><a href=\"#chap3\">3. Build LSTM model</a></font>**\n",
    "**<br><font size=\"2\"><a href=\"#chap4\">4. Training</a></font>**\n",
    "**<br><font size=\"2\"><a href=\"#chap5\">5. Predictions</a></font>**"
   ]
  },
  {
   "cell_type": "markdown",
   "metadata": {
    "papermill": {
     "duration": 0.018679,
     "end_time": "2023-04-08T14:09:26.153793",
     "exception": false,
     "start_time": "2023-04-08T14:09:26.135114",
     "status": "completed"
    },
    "tags": []
   },
   "source": [
    "# Imports"
   ]
  },
  {
   "cell_type": "code",
   "execution_count": 1,
   "metadata": {
    "_cell_guid": "b1076dfc-b9ad-4769-8c92-a6c4dae69d19",
    "_uuid": "8f2839f25d086af736a60e9eeb907d3b93b6e0e5",
    "papermill": {
     "duration": 6.498168,
     "end_time": "2023-04-08T14:09:32.670175",
     "exception": false,
     "start_time": "2023-04-08T14:09:26.172007",
     "status": "completed"
    },
    "tags": []
   },
   "outputs": [
    {
     "name": "stdout",
     "output_type": "stream",
     "text": [
      "WARNING:tensorflow:From C:\\Users\\user\\AppData\\Roaming\\Python\\Python311\\site-packages\\keras\\src\\losses.py:2976: The name tf.losses.sparse_softmax_cross_entropy is deprecated. Please use tf.compat.v1.losses.sparse_softmax_cross_entropy instead.\n",
      "\n"
     ]
    }
   ],
   "source": [
    "import numpy as np\n",
    "import pandas as pd\n",
    "\n",
    "import os\n",
    "import matplotlib.pyplot as plt\n",
    "import pandas_datareader as web\n",
    "import datetime as dt\n",
    "\n",
    "from sklearn.preprocessing import MinMaxScaler\n",
    "from tensorflow.keras.models import Sequential\n",
    "from tensorflow.keras.layers import Dense, Dropout, LSTM\n",
    "from tensorflow.keras.callbacks import ModelCheckpoint, EarlyStopping"
   ]
  },
  {
   "cell_type": "markdown",
   "metadata": {
    "papermill": {
     "duration": 0.017663,
     "end_time": "2023-04-08T14:09:32.742738",
     "exception": false,
     "start_time": "2023-04-08T14:09:32.725075",
     "status": "completed"
    },
    "tags": []
   },
   "source": [
    "# Pre-Processing"
   ]
  },
  {
   "cell_type": "code",
   "execution_count": 2,
   "metadata": {
    "papermill": {
     "duration": 0.274364,
     "end_time": "2023-04-08T14:09:33.034994",
     "exception": false,
     "start_time": "2023-04-08T14:09:32.760630",
     "status": "completed"
    },
    "tags": []
   },
   "outputs": [
    {
     "data": {
      "text/html": [
       "<div>\n",
       "<style scoped>\n",
       "    .dataframe tbody tr th:only-of-type {\n",
       "        vertical-align: middle;\n",
       "    }\n",
       "\n",
       "    .dataframe tbody tr th {\n",
       "        vertical-align: top;\n",
       "    }\n",
       "\n",
       "    .dataframe thead th {\n",
       "        text-align: right;\n",
       "    }\n",
       "</style>\n",
       "<table border=\"1\" class=\"dataframe\">\n",
       "  <thead>\n",
       "    <tr style=\"text-align: right;\">\n",
       "      <th></th>\n",
       "      <th>Date</th>\n",
       "      <th>Open</th>\n",
       "      <th>High</th>\n",
       "      <th>Low</th>\n",
       "      <th>Close</th>\n",
       "      <th>Adj Close</th>\n",
       "      <th>Volume</th>\n",
       "      <th>Stock</th>\n",
       "    </tr>\n",
       "  </thead>\n",
       "  <tbody>\n",
       "    <tr>\n",
       "      <th>27715</th>\n",
       "      <td>2023-12-06</td>\n",
       "      <td>12.690</td>\n",
       "      <td>13.405</td>\n",
       "      <td>12.585</td>\n",
       "      <td>13.125</td>\n",
       "      <td>13.125</td>\n",
       "      <td>1736300.0</td>\n",
       "      <td>FR.PA</td>\n",
       "    </tr>\n",
       "    <tr>\n",
       "      <th>27716</th>\n",
       "      <td>2023-12-07</td>\n",
       "      <td>12.960</td>\n",
       "      <td>13.860</td>\n",
       "      <td>12.740</td>\n",
       "      <td>13.850</td>\n",
       "      <td>13.850</td>\n",
       "      <td>3284833.0</td>\n",
       "      <td>FR.PA</td>\n",
       "    </tr>\n",
       "    <tr>\n",
       "      <th>27717</th>\n",
       "      <td>2023-12-08</td>\n",
       "      <td>13.750</td>\n",
       "      <td>14.535</td>\n",
       "      <td>13.705</td>\n",
       "      <td>14.300</td>\n",
       "      <td>14.300</td>\n",
       "      <td>2690703.0</td>\n",
       "      <td>FR.PA</td>\n",
       "    </tr>\n",
       "    <tr>\n",
       "      <th>27718</th>\n",
       "      <td>2023-12-11</td>\n",
       "      <td>14.300</td>\n",
       "      <td>14.325</td>\n",
       "      <td>13.900</td>\n",
       "      <td>14.015</td>\n",
       "      <td>14.015</td>\n",
       "      <td>1223682.0</td>\n",
       "      <td>FR.PA</td>\n",
       "    </tr>\n",
       "    <tr>\n",
       "      <th>27719</th>\n",
       "      <td>2023-12-12</td>\n",
       "      <td>14.005</td>\n",
       "      <td>14.005</td>\n",
       "      <td>13.240</td>\n",
       "      <td>13.255</td>\n",
       "      <td>13.255</td>\n",
       "      <td>1806853.0</td>\n",
       "      <td>FR.PA</td>\n",
       "    </tr>\n",
       "  </tbody>\n",
       "</table>\n",
       "</div>"
      ],
      "text/plain": [
       "            Date    Open    High     Low   Close  Adj Close     Volume  Stock\n",
       "27715 2023-12-06  12.690  13.405  12.585  13.125     13.125  1736300.0  FR.PA\n",
       "27716 2023-12-07  12.960  13.860  12.740  13.850     13.850  3284833.0  FR.PA\n",
       "27717 2023-12-08  13.750  14.535  13.705  14.300     14.300  2690703.0  FR.PA\n",
       "27718 2023-12-11  14.300  14.325  13.900  14.015     14.015  1223682.0  FR.PA\n",
       "27719 2023-12-12  14.005  14.005  13.240  13.255     13.255  1806853.0  FR.PA"
      ]
     },
     "execution_count": 2,
     "metadata": {},
     "output_type": "execute_result"
    }
   ],
   "source": [
    "# Load csv\n",
    "no_process_df = pd.read_csv('CAC40_stock_data.csv', parse_dates=['Date'])\n",
    "no_process_df.tail()"
   ]
  },
  {
   "cell_type": "code",
   "execution_count": 3,
   "metadata": {},
   "outputs": [],
   "source": [
    "df = pd.DataFrame()\n",
    "\n",
    "# Extract relevant columns from the original DataFrame\n",
    "df['Unnamed: 0'] = no_process_df.index  # Adding an index as 'Unnamed: 0'\n",
    "df['Name'] = no_process_df['Stock']\n",
    "df['Date'] = no_process_df['Date']\n",
    "df['Open'] = no_process_df['Open']\n",
    "df['Closing_Price'] = no_process_df['Close']\n",
    "df['Daily_High'] = no_process_df['High']\n",
    "df['Daily_Low'] = no_process_df['Low']\n",
    "df['Volume'] = no_process_df['Volume']\n",
    "\n",
    "# Reverse the order of rows if necessary (optional)\n",
    "#new_df = new_df[::-1].reset_index(drop=True)\n",
    "\n"
   ]
  },
  {
   "cell_type": "code",
   "execution_count": 4,
   "metadata": {
    "tags": []
   },
   "outputs": [],
   "source": [
    "df = df[::-1].reset_index(drop=True)\n"
   ]
  },
  {
   "cell_type": "code",
   "execution_count": 5,
   "metadata": {
    "tags": []
   },
   "outputs": [
    {
     "data": {
      "text/html": [
       "<div>\n",
       "<style scoped>\n",
       "    .dataframe tbody tr th:only-of-type {\n",
       "        vertical-align: middle;\n",
       "    }\n",
       "\n",
       "    .dataframe tbody tr th {\n",
       "        vertical-align: top;\n",
       "    }\n",
       "\n",
       "    .dataframe thead th {\n",
       "        text-align: right;\n",
       "    }\n",
       "</style>\n",
       "<table border=\"1\" class=\"dataframe\">\n",
       "  <thead>\n",
       "    <tr style=\"text-align: right;\">\n",
       "      <th></th>\n",
       "      <th>Unnamed: 0</th>\n",
       "      <th>Name</th>\n",
       "      <th>Date</th>\n",
       "      <th>Open</th>\n",
       "      <th>Closing_Price</th>\n",
       "      <th>Daily_High</th>\n",
       "      <th>Daily_Low</th>\n",
       "      <th>Volume</th>\n",
       "    </tr>\n",
       "  </thead>\n",
       "  <tbody>\n",
       "    <tr>\n",
       "      <th>0</th>\n",
       "      <td>27719</td>\n",
       "      <td>FR.PA</td>\n",
       "      <td>2023-12-12</td>\n",
       "      <td>14.005</td>\n",
       "      <td>13.255000</td>\n",
       "      <td>14.005000</td>\n",
       "      <td>13.240000</td>\n",
       "      <td>1806853.0</td>\n",
       "    </tr>\n",
       "    <tr>\n",
       "      <th>1</th>\n",
       "      <td>27718</td>\n",
       "      <td>FR.PA</td>\n",
       "      <td>2023-12-11</td>\n",
       "      <td>14.300</td>\n",
       "      <td>14.015000</td>\n",
       "      <td>14.325000</td>\n",
       "      <td>13.900000</td>\n",
       "      <td>1223682.0</td>\n",
       "    </tr>\n",
       "    <tr>\n",
       "      <th>2</th>\n",
       "      <td>27717</td>\n",
       "      <td>FR.PA</td>\n",
       "      <td>2023-12-08</td>\n",
       "      <td>13.750</td>\n",
       "      <td>14.300000</td>\n",
       "      <td>14.535000</td>\n",
       "      <td>13.705000</td>\n",
       "      <td>2690703.0</td>\n",
       "    </tr>\n",
       "    <tr>\n",
       "      <th>3</th>\n",
       "      <td>27716</td>\n",
       "      <td>FR.PA</td>\n",
       "      <td>2023-12-07</td>\n",
       "      <td>12.960</td>\n",
       "      <td>13.850000</td>\n",
       "      <td>13.860000</td>\n",
       "      <td>12.740000</td>\n",
       "      <td>3284833.0</td>\n",
       "    </tr>\n",
       "    <tr>\n",
       "      <th>4</th>\n",
       "      <td>27715</td>\n",
       "      <td>FR.PA</td>\n",
       "      <td>2023-12-06</td>\n",
       "      <td>12.690</td>\n",
       "      <td>13.125000</td>\n",
       "      <td>13.405000</td>\n",
       "      <td>12.585000</td>\n",
       "      <td>1736300.0</td>\n",
       "    </tr>\n",
       "    <tr>\n",
       "      <th>...</th>\n",
       "      <td>...</td>\n",
       "      <td>...</td>\n",
       "      <td>...</td>\n",
       "      <td>...</td>\n",
       "      <td>...</td>\n",
       "      <td>...</td>\n",
       "      <td>...</td>\n",
       "      <td>...</td>\n",
       "    </tr>\n",
       "    <tr>\n",
       "      <th>27715</th>\n",
       "      <td>4</td>\n",
       "      <td>AC.PA</td>\n",
       "      <td>2020-12-18</td>\n",
       "      <td>29.580</td>\n",
       "      <td>29.540001</td>\n",
       "      <td>30.100000</td>\n",
       "      <td>29.340000</td>\n",
       "      <td>1033501.0</td>\n",
       "    </tr>\n",
       "    <tr>\n",
       "      <th>27716</th>\n",
       "      <td>3</td>\n",
       "      <td>AC.PA</td>\n",
       "      <td>2020-12-17</td>\n",
       "      <td>29.750</td>\n",
       "      <td>29.770000</td>\n",
       "      <td>30.000000</td>\n",
       "      <td>29.480000</td>\n",
       "      <td>677096.0</td>\n",
       "    </tr>\n",
       "    <tr>\n",
       "      <th>27717</th>\n",
       "      <td>2</td>\n",
       "      <td>AC.PA</td>\n",
       "      <td>2020-12-16</td>\n",
       "      <td>30.230</td>\n",
       "      <td>29.629999</td>\n",
       "      <td>30.400000</td>\n",
       "      <td>29.360001</td>\n",
       "      <td>650601.0</td>\n",
       "    </tr>\n",
       "    <tr>\n",
       "      <th>27718</th>\n",
       "      <td>1</td>\n",
       "      <td>AC.PA</td>\n",
       "      <td>2020-12-15</td>\n",
       "      <td>29.430</td>\n",
       "      <td>29.990000</td>\n",
       "      <td>30.030001</td>\n",
       "      <td>29.010000</td>\n",
       "      <td>1116363.0</td>\n",
       "    </tr>\n",
       "    <tr>\n",
       "      <th>27719</th>\n",
       "      <td>0</td>\n",
       "      <td>AC.PA</td>\n",
       "      <td>2020-12-14</td>\n",
       "      <td>30.270</td>\n",
       "      <td>29.480000</td>\n",
       "      <td>30.360001</td>\n",
       "      <td>29.420000</td>\n",
       "      <td>786593.0</td>\n",
       "    </tr>\n",
       "  </tbody>\n",
       "</table>\n",
       "<p>27720 rows × 8 columns</p>\n",
       "</div>"
      ],
      "text/plain": [
       "       Unnamed: 0   Name       Date    Open  Closing_Price  Daily_High  \\\n",
       "0           27719  FR.PA 2023-12-12  14.005      13.255000   14.005000   \n",
       "1           27718  FR.PA 2023-12-11  14.300      14.015000   14.325000   \n",
       "2           27717  FR.PA 2023-12-08  13.750      14.300000   14.535000   \n",
       "3           27716  FR.PA 2023-12-07  12.960      13.850000   13.860000   \n",
       "4           27715  FR.PA 2023-12-06  12.690      13.125000   13.405000   \n",
       "...           ...    ...        ...     ...            ...         ...   \n",
       "27715           4  AC.PA 2020-12-18  29.580      29.540001   30.100000   \n",
       "27716           3  AC.PA 2020-12-17  29.750      29.770000   30.000000   \n",
       "27717           2  AC.PA 2020-12-16  30.230      29.629999   30.400000   \n",
       "27718           1  AC.PA 2020-12-15  29.430      29.990000   30.030001   \n",
       "27719           0  AC.PA 2020-12-14  30.270      29.480000   30.360001   \n",
       "\n",
       "       Daily_Low     Volume  \n",
       "0      13.240000  1806853.0  \n",
       "1      13.900000  1223682.0  \n",
       "2      13.705000  2690703.0  \n",
       "3      12.740000  3284833.0  \n",
       "4      12.585000  1736300.0  \n",
       "...          ...        ...  \n",
       "27715  29.340000  1033501.0  \n",
       "27716  29.480000   677096.0  \n",
       "27717  29.360001   650601.0  \n",
       "27718  29.010000  1116363.0  \n",
       "27719  29.420000   786593.0  \n",
       "\n",
       "[27720 rows x 8 columns]"
      ]
     },
     "execution_count": 5,
     "metadata": {},
     "output_type": "execute_result"
    }
   ],
   "source": [
    "df"
   ]
  },
  {
   "cell_type": "code",
   "execution_count": 6,
   "metadata": {
    "papermill": {
     "duration": 0.025211,
     "end_time": "2023-04-08T14:09:33.123813",
     "exception": false,
     "start_time": "2023-04-08T14:09:33.098602",
     "status": "completed"
    },
    "tags": []
   },
   "outputs": [],
   "source": [
    "COMPANY = 'AC.PA'\n",
    "START_DATE = dt.datetime.now() - dt.timedelta(days=365*4)\n",
    "END_DATE = dt.datetime.now()  - dt.timedelta(days=365)\n",
    "\n",
    "START_DATE_TEST = dt.datetime.now()  - dt.timedelta(days=365)"
   ]
  },
  {
   "cell_type": "code",
   "execution_count": 7,
   "metadata": {
    "papermill": {
     "duration": 0.027658,
     "end_time": "2023-04-08T14:09:33.080567",
     "exception": false,
     "start_time": "2023-04-08T14:09:33.052909",
     "status": "completed"
    },
    "tags": []
   },
   "outputs": [
    {
     "name": "stdout",
     "output_type": "stream",
     "text": [
      "Original DataFrame:\n",
      "<class 'pandas.core.frame.DataFrame'>\n",
      "RangeIndex: 27720 entries, 0 to 27719\n",
      "Data columns (total 8 columns):\n",
      " #   Column         Non-Null Count  Dtype         \n",
      "---  ------         --------------  -----         \n",
      " 0   Unnamed: 0     27720 non-null  int64         \n",
      " 1   Name           27720 non-null  object        \n",
      " 2   Date           27720 non-null  datetime64[ns]\n",
      " 3   Open           27720 non-null  float64       \n",
      " 4   Closing_Price  27720 non-null  float64       \n",
      " 5   Daily_High     27720 non-null  float64       \n",
      " 6   Daily_Low      27720 non-null  float64       \n",
      " 7   Volume         27720 non-null  float64       \n",
      "dtypes: datetime64[ns](1), float64(5), int64(1), object(1)\n",
      "memory usage: 1.7+ MB\n",
      "None\n",
      "Filtered by Company (AC.PA):\n",
      "<class 'pandas.core.frame.DataFrame'>\n",
      "Int64Index: 770 entries, 26950 to 27719\n",
      "Data columns (total 8 columns):\n",
      " #   Column         Non-Null Count  Dtype         \n",
      "---  ------         --------------  -----         \n",
      " 0   Unnamed: 0     770 non-null    int64         \n",
      " 1   Name           770 non-null    object        \n",
      " 2   Date           770 non-null    datetime64[ns]\n",
      " 3   Open           770 non-null    float64       \n",
      " 4   Closing_Price  770 non-null    float64       \n",
      " 5   Daily_High     770 non-null    float64       \n",
      " 6   Daily_Low      770 non-null    float64       \n",
      " 7   Volume         770 non-null    float64       \n",
      "dtypes: datetime64[ns](1), float64(5), int64(1), object(1)\n",
      "memory usage: 54.1+ KB\n",
      "None\n",
      "Filtered by Date Range (2020-02-06 02:38:07.026312 to 2023-02-05 02:38:07.026312):\n",
      "<class 'pandas.core.frame.DataFrame'>\n",
      "Int64Index: 553 entries, 27167 to 27719\n",
      "Data columns (total 8 columns):\n",
      " #   Column         Non-Null Count  Dtype         \n",
      "---  ------         --------------  -----         \n",
      " 0   Unnamed: 0     553 non-null    int64         \n",
      " 1   Name           553 non-null    object        \n",
      " 2   Date           553 non-null    datetime64[ns]\n",
      " 3   Open           553 non-null    float64       \n",
      " 4   Closing_Price  553 non-null    float64       \n",
      " 5   Daily_High     553 non-null    float64       \n",
      " 6   Daily_Low      553 non-null    float64       \n",
      " 7   Volume         553 non-null    float64       \n",
      "dtypes: datetime64[ns](1), float64(5), int64(1), object(1)\n",
      "memory usage: 38.9+ KB\n",
      "None\n",
      "Loaded Data:\n",
      "<class 'pandas.core.frame.DataFrame'>\n",
      "Int64Index: 553 entries, 27167 to 27719\n",
      "Data columns (total 8 columns):\n",
      " #   Column      Non-Null Count  Dtype         \n",
      "---  ------      --------------  -----         \n",
      " 0   Unnamed: 0  553 non-null    int64         \n",
      " 1   Name        553 non-null    object        \n",
      " 2   Date        553 non-null    datetime64[ns]\n",
      " 3   Open        553 non-null    float64       \n",
      " 4   Close       553 non-null    float64       \n",
      " 5   Daily_High  553 non-null    float64       \n",
      " 6   Daily_Low   553 non-null    float64       \n",
      " 7   Volume      553 non-null    float64       \n",
      "dtypes: datetime64[ns](1), float64(5), int64(1), object(1)\n",
      "memory usage: 38.9+ KB\n",
      "None\n"
     ]
    }
   ],
   "source": [
    "def load_data(company, start, end):\n",
    "    dataframe = df.copy()\n",
    "    print(\"Original DataFrame:\")\n",
    "    print(dataframe.info())\n",
    "\n",
    "    dataframe = dataframe.loc[dataframe.Name == company, :]\n",
    "    print(f\"Filtered by Company ({company}):\")\n",
    "    print(dataframe.info())\n",
    "\n",
    "    dataframe = dataframe.loc[(dataframe['Date'] > start) & (dataframe['Date'] < end), :]\n",
    "    print(f\"Filtered by Date Range ({start} to {end}):\")\n",
    "    print(dataframe.info())\n",
    "\n",
    "    dataframe = dataframe.rename(columns={'Closing_Price': 'Close'})\n",
    "    return dataframe\n",
    "\n",
    "\n",
    "data = load_data(company=COMPANY, start=START_DATE, end=END_DATE)\n",
    "print(\"Loaded Data:\")\n",
    "print(data.info())\n"
   ]
  },
  {
   "cell_type": "code",
   "execution_count": 8,
   "metadata": {
    "tags": []
   },
   "outputs": [
    {
     "data": {
      "text/plain": [
       "datetime.datetime(2020, 2, 6, 2, 38, 7, 26312)"
      ]
     },
     "execution_count": 8,
     "metadata": {},
     "output_type": "execute_result"
    }
   ],
   "source": [
    "START_DATE"
   ]
  },
  {
   "cell_type": "code",
   "execution_count": 9,
   "metadata": {
    "tags": []
   },
   "outputs": [
    {
     "name": "stdout",
     "output_type": "stream",
     "text": [
      "<class 'pandas.core.frame.DataFrame'>\n",
      "Int64Index: 553 entries, 27167 to 27719\n",
      "Data columns (total 8 columns):\n",
      " #   Column      Non-Null Count  Dtype         \n",
      "---  ------      --------------  -----         \n",
      " 0   Unnamed: 0  553 non-null    int64         \n",
      " 1   Name        553 non-null    object        \n",
      " 2   Date        553 non-null    datetime64[ns]\n",
      " 3   Open        553 non-null    float64       \n",
      " 4   Close       553 non-null    float64       \n",
      " 5   Daily_High  553 non-null    float64       \n",
      " 6   Daily_Low   553 non-null    float64       \n",
      " 7   Volume      553 non-null    float64       \n",
      "dtypes: datetime64[ns](1), float64(5), int64(1), object(1)\n",
      "memory usage: 38.9+ KB\n",
      "None\n"
     ]
    }
   ],
   "source": [
    "print(data.info())\n"
   ]
  },
  {
   "cell_type": "code",
   "execution_count": 10,
   "metadata": {
    "tags": []
   },
   "outputs": [
    {
     "data": {
      "text/html": [
       "<div>\n",
       "<style scoped>\n",
       "    .dataframe tbody tr th:only-of-type {\n",
       "        vertical-align: middle;\n",
       "    }\n",
       "\n",
       "    .dataframe tbody tr th {\n",
       "        vertical-align: top;\n",
       "    }\n",
       "\n",
       "    .dataframe thead th {\n",
       "        text-align: right;\n",
       "    }\n",
       "</style>\n",
       "<table border=\"1\" class=\"dataframe\">\n",
       "  <thead>\n",
       "    <tr style=\"text-align: right;\">\n",
       "      <th></th>\n",
       "      <th>Unnamed: 0</th>\n",
       "      <th>Name</th>\n",
       "      <th>Date</th>\n",
       "      <th>Open</th>\n",
       "      <th>Close</th>\n",
       "      <th>Daily_High</th>\n",
       "      <th>Daily_Low</th>\n",
       "      <th>Volume</th>\n",
       "    </tr>\n",
       "  </thead>\n",
       "  <tbody>\n",
       "    <tr>\n",
       "      <th>27167</th>\n",
       "      <td>552</td>\n",
       "      <td>AC.PA</td>\n",
       "      <td>2023-02-03</td>\n",
       "      <td>30.740000</td>\n",
       "      <td>31.090000</td>\n",
       "      <td>31.090000</td>\n",
       "      <td>30.610001</td>\n",
       "      <td>696597.0</td>\n",
       "    </tr>\n",
       "    <tr>\n",
       "      <th>27168</th>\n",
       "      <td>551</td>\n",
       "      <td>AC.PA</td>\n",
       "      <td>2023-02-02</td>\n",
       "      <td>30.129999</td>\n",
       "      <td>30.799999</td>\n",
       "      <td>30.959999</td>\n",
       "      <td>30.129999</td>\n",
       "      <td>790317.0</td>\n",
       "    </tr>\n",
       "    <tr>\n",
       "      <th>27169</th>\n",
       "      <td>550</td>\n",
       "      <td>AC.PA</td>\n",
       "      <td>2023-02-01</td>\n",
       "      <td>29.860001</td>\n",
       "      <td>29.920000</td>\n",
       "      <td>30.299999</td>\n",
       "      <td>29.840000</td>\n",
       "      <td>652883.0</td>\n",
       "    </tr>\n",
       "    <tr>\n",
       "      <th>27170</th>\n",
       "      <td>549</td>\n",
       "      <td>AC.PA</td>\n",
       "      <td>2023-01-31</td>\n",
       "      <td>29.799999</td>\n",
       "      <td>29.770000</td>\n",
       "      <td>29.860001</td>\n",
       "      <td>29.549999</td>\n",
       "      <td>809918.0</td>\n",
       "    </tr>\n",
       "    <tr>\n",
       "      <th>27171</th>\n",
       "      <td>548</td>\n",
       "      <td>AC.PA</td>\n",
       "      <td>2023-01-30</td>\n",
       "      <td>29.760000</td>\n",
       "      <td>29.700001</td>\n",
       "      <td>29.860001</td>\n",
       "      <td>29.379999</td>\n",
       "      <td>549040.0</td>\n",
       "    </tr>\n",
       "    <tr>\n",
       "      <th>...</th>\n",
       "      <td>...</td>\n",
       "      <td>...</td>\n",
       "      <td>...</td>\n",
       "      <td>...</td>\n",
       "      <td>...</td>\n",
       "      <td>...</td>\n",
       "      <td>...</td>\n",
       "      <td>...</td>\n",
       "    </tr>\n",
       "    <tr>\n",
       "      <th>27715</th>\n",
       "      <td>4</td>\n",
       "      <td>AC.PA</td>\n",
       "      <td>2020-12-18</td>\n",
       "      <td>29.580000</td>\n",
       "      <td>29.540001</td>\n",
       "      <td>30.100000</td>\n",
       "      <td>29.340000</td>\n",
       "      <td>1033501.0</td>\n",
       "    </tr>\n",
       "    <tr>\n",
       "      <th>27716</th>\n",
       "      <td>3</td>\n",
       "      <td>AC.PA</td>\n",
       "      <td>2020-12-17</td>\n",
       "      <td>29.750000</td>\n",
       "      <td>29.770000</td>\n",
       "      <td>30.000000</td>\n",
       "      <td>29.480000</td>\n",
       "      <td>677096.0</td>\n",
       "    </tr>\n",
       "    <tr>\n",
       "      <th>27717</th>\n",
       "      <td>2</td>\n",
       "      <td>AC.PA</td>\n",
       "      <td>2020-12-16</td>\n",
       "      <td>30.230000</td>\n",
       "      <td>29.629999</td>\n",
       "      <td>30.400000</td>\n",
       "      <td>29.360001</td>\n",
       "      <td>650601.0</td>\n",
       "    </tr>\n",
       "    <tr>\n",
       "      <th>27718</th>\n",
       "      <td>1</td>\n",
       "      <td>AC.PA</td>\n",
       "      <td>2020-12-15</td>\n",
       "      <td>29.430000</td>\n",
       "      <td>29.990000</td>\n",
       "      <td>30.030001</td>\n",
       "      <td>29.010000</td>\n",
       "      <td>1116363.0</td>\n",
       "    </tr>\n",
       "    <tr>\n",
       "      <th>27719</th>\n",
       "      <td>0</td>\n",
       "      <td>AC.PA</td>\n",
       "      <td>2020-12-14</td>\n",
       "      <td>30.270000</td>\n",
       "      <td>29.480000</td>\n",
       "      <td>30.360001</td>\n",
       "      <td>29.420000</td>\n",
       "      <td>786593.0</td>\n",
       "    </tr>\n",
       "  </tbody>\n",
       "</table>\n",
       "<p>553 rows × 8 columns</p>\n",
       "</div>"
      ],
      "text/plain": [
       "       Unnamed: 0   Name       Date       Open      Close  Daily_High  \\\n",
       "27167         552  AC.PA 2023-02-03  30.740000  31.090000   31.090000   \n",
       "27168         551  AC.PA 2023-02-02  30.129999  30.799999   30.959999   \n",
       "27169         550  AC.PA 2023-02-01  29.860001  29.920000   30.299999   \n",
       "27170         549  AC.PA 2023-01-31  29.799999  29.770000   29.860001   \n",
       "27171         548  AC.PA 2023-01-30  29.760000  29.700001   29.860001   \n",
       "...           ...    ...        ...        ...        ...         ...   \n",
       "27715           4  AC.PA 2020-12-18  29.580000  29.540001   30.100000   \n",
       "27716           3  AC.PA 2020-12-17  29.750000  29.770000   30.000000   \n",
       "27717           2  AC.PA 2020-12-16  30.230000  29.629999   30.400000   \n",
       "27718           1  AC.PA 2020-12-15  29.430000  29.990000   30.030001   \n",
       "27719           0  AC.PA 2020-12-14  30.270000  29.480000   30.360001   \n",
       "\n",
       "       Daily_Low     Volume  \n",
       "27167  30.610001   696597.0  \n",
       "27168  30.129999   790317.0  \n",
       "27169  29.840000   652883.0  \n",
       "27170  29.549999   809918.0  \n",
       "27171  29.379999   549040.0  \n",
       "...          ...        ...  \n",
       "27715  29.340000  1033501.0  \n",
       "27716  29.480000   677096.0  \n",
       "27717  29.360001   650601.0  \n",
       "27718  29.010000  1116363.0  \n",
       "27719  29.420000   786593.0  \n",
       "\n",
       "[553 rows x 8 columns]"
      ]
     },
     "execution_count": 10,
     "metadata": {},
     "output_type": "execute_result"
    }
   ],
   "source": [
    "data"
   ]
  },
  {
   "cell_type": "code",
   "execution_count": 11,
   "metadata": {
    "papermill": {
     "duration": 0.027862,
     "end_time": "2023-04-08T14:09:33.238107",
     "exception": false,
     "start_time": "2023-04-08T14:09:33.210245",
     "status": "completed"
    },
    "tags": []
   },
   "outputs": [],
   "source": [
    "# Normalize data\n",
    "scaler = MinMaxScaler(feature_range=(0,1))\n",
    "scaled_data = scaler.fit_transform(data['Close'].values.reshape(-1,1))\n"
   ]
  },
  {
   "cell_type": "code",
   "execution_count": 13,
   "metadata": {
    "papermill": {
     "duration": 0.030067,
     "end_time": "2023-04-08T14:09:33.286004",
     "exception": false,
     "start_time": "2023-04-08T14:09:33.255937",
     "status": "completed"
    },
    "tags": []
   },
   "outputs": [],
   "source": [
    "# Set the number of days used for prediction\n",
    "prediction_days = 60\n",
    "\n",
    "# Initialize empty lists for training data input and output\n",
    "x_train = []\n",
    "y_train = []\n",
    "\n",
    "# Iterate through the scaled data, starting from the prediction_days index\n",
    "for x in range(prediction_days, len(scaled_data)):\n",
    "    # Append the previous 'prediction_days' values to x_train\n",
    "    x_train.append(scaled_data[x - prediction_days:x, 0])\n",
    "    # Append the current value to y_train\n",
    "    y_train.append(scaled_data[x, 0])\n",
    "\n",
    "# Convert the x_train and y_train lists to numpy arrays\n",
    "x_train, y_train = np.array(x_train), np.array(y_train)\n",
    "\n",
    "# Reshape x_train to a 3D array with the appropriate dimensions for the LSTM model\n",
    "x_train = np.reshape(x_train, (x_train.shape[0], x_train.shape[1], 1))\n"
   ]
  },
  {
   "cell_type": "code",
   "execution_count": 14,
   "metadata": {
    "tags": []
   },
   "outputs": [
    {
     "data": {
      "text/plain": [
       "array([[[0.70298412],\n",
       "        [0.68285914],\n",
       "        [0.6217905 ],\n",
       "        ...,\n",
       "        [0.31020134],\n",
       "        [0.29840397],\n",
       "        [0.30464964]],\n",
       "\n",
       "       [[0.68285914],\n",
       "        [0.6217905 ],\n",
       "        [0.61138109],\n",
       "        ...,\n",
       "        [0.29840397],\n",
       "        [0.30464964],\n",
       "        [0.26231789]],\n",
       "\n",
       "       [[0.6217905 ],\n",
       "        [0.61138109],\n",
       "        [0.60652337],\n",
       "        ...,\n",
       "        [0.30464964],\n",
       "        [0.26231789],\n",
       "        [0.22553782]],\n",
       "\n",
       "       ...,\n",
       "\n",
       "       [[0.97779322],\n",
       "        [0.96391392],\n",
       "        [0.94517716],\n",
       "        ...,\n",
       "        [0.53296325],\n",
       "        [0.59541998],\n",
       "        [0.61138109]],\n",
       "\n",
       "       [[0.96391392],\n",
       "        [0.94517716],\n",
       "        [0.9729355 ],\n",
       "        ...,\n",
       "        [0.59541998],\n",
       "        [0.61138109],\n",
       "        [0.60166552]],\n",
       "\n",
       "       [[0.94517716],\n",
       "        [0.9729355 ],\n",
       "        [0.95836235],\n",
       "        ...,\n",
       "        [0.61138109],\n",
       "        [0.60166552],\n",
       "        [0.62664822]]])"
      ]
     },
     "execution_count": 14,
     "metadata": {},
     "output_type": "execute_result"
    }
   ],
   "source": [
    "x_train"
   ]
  },
  {
   "cell_type": "markdown",
   "metadata": {
    "papermill": {
     "duration": 0.017615,
     "end_time": "2023-04-08T14:09:33.357565",
     "exception": false,
     "start_time": "2023-04-08T14:09:33.339950",
     "status": "completed"
    },
    "tags": []
   },
   "source": [
    "# LSTM model"
   ]
  },
  {
   "cell_type": "code",
   "execution_count": 15,
   "metadata": {
    "papermill": {
     "duration": 0.027615,
     "end_time": "2023-04-08T14:09:33.473880",
     "exception": false,
     "start_time": "2023-04-08T14:09:33.446265",
     "status": "completed"
    },
    "tags": []
   },
   "outputs": [],
   "source": [
    "def LSTM_model():\n",
    "\n",
    "    # Initialize a sequential model\n",
    "    model = Sequential()\n",
    "\n",
    "    # Add the first LSTM layer with 50 units, input shape, and return sequences\n",
    "    model.add(LSTM(units=50, return_sequences=True, input_shape=(x_train.shape[1], 1)))\n",
    "    # Add dropout to prevent overfitting\n",
    "    model.add(Dropout(0.2))\n",
    "\n",
    "    # Add a second LSTM layer with 50 units and return sequences\n",
    "    model.add(LSTM(units=50, return_sequences=True))\n",
    "    # Add dropout to prevent overfitting\n",
    "    model.add(Dropout(0.2))\n",
    "\n",
    "    # Add a third LSTM layer with 50 units\n",
    "    model.add(LSTM(units=50))\n",
    "    # Add dropout to prevent overfitting\n",
    "    model.add(Dropout(0.2))\n",
    "\n",
    "    # Add a dense output layer with one unit\n",
    "    model.add(Dense(units=1))\n",
    "\n",
    "    return model"
   ]
  },
  {
   "cell_type": "markdown",
   "metadata": {
    "papermill": {
     "duration": 0.017332,
     "end_time": "2023-04-08T14:09:33.544610",
     "exception": false,
     "start_time": "2023-04-08T14:09:33.527278",
     "status": "completed"
    },
    "tags": []
   },
   "source": [
    "# Training"
   ]
  },
  {
   "cell_type": "code",
   "execution_count": 16,
   "metadata": {
    "papermill": {
     "duration": 0.859032,
     "end_time": "2023-04-08T14:09:34.421351",
     "exception": false,
     "start_time": "2023-04-08T14:09:33.562319",
     "status": "completed"
    },
    "tags": []
   },
   "outputs": [
    {
     "name": "stdout",
     "output_type": "stream",
     "text": [
      "WARNING:tensorflow:From C:\\Users\\user\\AppData\\Roaming\\Python\\Python311\\site-packages\\keras\\src\\backend.py:873: The name tf.get_default_graph is deprecated. Please use tf.compat.v1.get_default_graph instead.\n",
      "\n",
      "Model: \"sequential\"\n",
      "_________________________________________________________________\n",
      " Layer (type)                Output Shape              Param #   \n",
      "=================================================================\n",
      " lstm (LSTM)                 (None, 60, 50)            10400     \n",
      "                                                                 \n",
      " dropout (Dropout)           (None, 60, 50)            0         \n",
      "                                                                 \n",
      " lstm_1 (LSTM)               (None, 60, 50)            20200     \n",
      "                                                                 \n",
      " dropout_1 (Dropout)         (None, 60, 50)            0         \n",
      "                                                                 \n",
      " lstm_2 (LSTM)               (None, 50)                20200     \n",
      "                                                                 \n",
      " dropout_2 (Dropout)         (None, 50)                0         \n",
      "                                                                 \n",
      " dense (Dense)               (None, 1)                 51        \n",
      "                                                                 \n",
      "=================================================================\n",
      "Total params: 50851 (198.64 KB)\n",
      "Trainable params: 50851 (198.64 KB)\n",
      "Non-trainable params: 0 (0.00 Byte)\n",
      "_________________________________________________________________\n",
      "WARNING:tensorflow:From C:\\Users\\user\\AppData\\Roaming\\Python\\Python311\\site-packages\\keras\\src\\optimizers\\__init__.py:309: The name tf.train.Optimizer is deprecated. Please use tf.compat.v1.train.Optimizer instead.\n",
      "\n"
     ]
    }
   ],
   "source": [
    "model = LSTM_model()\n",
    "model.summary()\n",
    "model.compile(\n",
    "    optimizer='adam', \n",
    "    loss='mean_squared_error'\n",
    ")"
   ]
  },
  {
   "cell_type": "code",
   "execution_count": 17,
   "metadata": {
    "papermill": {
     "duration": 79.969351,
     "end_time": "2023-04-08T14:10:54.409734",
     "exception": false,
     "start_time": "2023-04-08T14:09:34.440383",
     "status": "completed"
    },
    "tags": []
   },
   "outputs": [
    {
     "name": "stdout",
     "output_type": "stream",
     "text": [
      "Epoch 1/9\n",
      "WARNING:tensorflow:From C:\\Users\\user\\AppData\\Roaming\\Python\\Python311\\site-packages\\keras\\src\\utils\\tf_utils.py:492: The name tf.ragged.RaggedTensorValue is deprecated. Please use tf.compat.v1.ragged.RaggedTensorValue instead.\n",
      "\n",
      "13/13 [==============================] - ETA: 0s - loss: 0.1062\n",
      "Epoch 1: val_loss improved from inf to 0.03747, saving model to weights_best.hdf5\n",
      "13/13 [==============================] - 6s 145ms/step - loss: 0.1062 - val_loss: 0.0375\n",
      "Epoch 2/9\n",
      " 1/13 [=>............................] - ETA: 0s - loss: 0.0287"
     ]
    },
    {
     "name": "stderr",
     "output_type": "stream",
     "text": [
      "C:\\Users\\user\\AppData\\Roaming\\Python\\Python311\\site-packages\\keras\\src\\engine\\training.py:3103: UserWarning: You are saving your model as an HDF5 file via `model.save()`. This file format is considered legacy. We recommend using instead the native Keras format, e.g. `model.save('my_model.keras')`.\n",
      "  saving_api.save_model(\n"
     ]
    },
    {
     "name": "stdout",
     "output_type": "stream",
     "text": [
      "12/13 [==========================>...] - ETA: 0s - loss: 0.0294\n",
      "Epoch 2: val_loss improved from 0.03747 to 0.01360, saving model to weights_best.hdf5\n",
      "13/13 [==============================] - 1s 56ms/step - loss: 0.0292 - val_loss: 0.0136\n",
      "Epoch 3/9\n",
      "13/13 [==============================] - ETA: 0s - loss: 0.0229\n",
      "Epoch 3: val_loss did not improve from 0.01360\n",
      "13/13 [==============================] - 1s 42ms/step - loss: 0.0229 - val_loss: 0.0139\n",
      "Epoch 4/9\n",
      "13/13 [==============================] - ETA: 0s - loss: 0.0180\n",
      "Epoch 4: val_loss improved from 0.01360 to 0.01273, saving model to weights_best.hdf5\n",
      "13/13 [==============================] - 1s 53ms/step - loss: 0.0180 - val_loss: 0.0127\n",
      "Epoch 5/9\n",
      "13/13 [==============================] - ETA: 0s - loss: 0.0224\n",
      "Epoch 5: val_loss improved from 0.01273 to 0.01188, saving model to weights_best.hdf5\n",
      "13/13 [==============================] - 1s 52ms/step - loss: 0.0224 - val_loss: 0.0119\n",
      "Epoch 6/9\n",
      "13/13 [==============================] - ETA: 0s - loss: 0.0202\n",
      "Epoch 6: val_loss did not improve from 0.01188\n",
      "13/13 [==============================] - 1s 42ms/step - loss: 0.0202 - val_loss: 0.0141\n",
      "Epoch 7/9\n",
      "12/13 [==========================>...] - ETA: 0s - loss: 0.0156\n",
      "Epoch 7: val_loss improved from 0.01188 to 0.01176, saving model to weights_best.hdf5\n",
      "13/13 [==============================] - 1s 57ms/step - loss: 0.0155 - val_loss: 0.0118\n",
      "Epoch 8/9\n",
      "13/13 [==============================] - ETA: 0s - loss: 0.0154\n",
      "Epoch 8: val_loss improved from 0.01176 to 0.01075, saving model to weights_best.hdf5\n",
      "13/13 [==============================] - 1s 46ms/step - loss: 0.0154 - val_loss: 0.0107\n",
      "Epoch 9/9\n",
      "13/13 [==============================] - ETA: 0s - loss: 0.0144\n",
      "Epoch 9: val_loss did not improve from 0.01075\n",
      "13/13 [==============================] - 1s 44ms/step - loss: 0.0144 - val_loss: 0.0126\n"
     ]
    },
    {
     "data": {
      "text/plain": [
       "<keras.src.callbacks.History at 0x1ffdc300090>"
      ]
     },
     "execution_count": 17,
     "metadata": {},
     "output_type": "execute_result"
    }
   ],
   "source": [
    "# Define callbacks\n",
    "\n",
    "# Save weights only for best model\n",
    "checkpointer = ModelCheckpoint(\n",
    "    filepath = 'weights_best.hdf5', \n",
    "    verbose = 2, \n",
    "    save_best_only = True\n",
    ")\n",
    "\n",
    "model.fit(\n",
    "    x_train, \n",
    "    y_train, \n",
    "    epochs=9, \n",
    "    batch_size = 32,\n",
    "    callbacks = [checkpointer],\n",
    "    validation_split=0.2\n",
    ")"
   ]
  },
  {
   "cell_type": "code",
   "execution_count": 18,
   "metadata": {
    "tags": []
   },
   "outputs": [
    {
     "data": {
      "text/html": [
       "<div>\n",
       "<style scoped>\n",
       "    .dataframe tbody tr th:only-of-type {\n",
       "        vertical-align: middle;\n",
       "    }\n",
       "\n",
       "    .dataframe tbody tr th {\n",
       "        vertical-align: top;\n",
       "    }\n",
       "\n",
       "    .dataframe thead th {\n",
       "        text-align: right;\n",
       "    }\n",
       "</style>\n",
       "<table border=\"1\" class=\"dataframe\">\n",
       "  <thead>\n",
       "    <tr style=\"text-align: right;\">\n",
       "      <th></th>\n",
       "      <th>Unnamed: 0</th>\n",
       "      <th>Name</th>\n",
       "      <th>Date</th>\n",
       "      <th>Open</th>\n",
       "      <th>Close</th>\n",
       "      <th>Daily_High</th>\n",
       "      <th>Daily_Low</th>\n",
       "      <th>Volume</th>\n",
       "    </tr>\n",
       "  </thead>\n",
       "  <tbody>\n",
       "    <tr>\n",
       "      <th>27167</th>\n",
       "      <td>552</td>\n",
       "      <td>AC.PA</td>\n",
       "      <td>2023-02-03</td>\n",
       "      <td>30.740000</td>\n",
       "      <td>31.090000</td>\n",
       "      <td>31.090000</td>\n",
       "      <td>30.610001</td>\n",
       "      <td>696597.0</td>\n",
       "    </tr>\n",
       "    <tr>\n",
       "      <th>27168</th>\n",
       "      <td>551</td>\n",
       "      <td>AC.PA</td>\n",
       "      <td>2023-02-02</td>\n",
       "      <td>30.129999</td>\n",
       "      <td>30.799999</td>\n",
       "      <td>30.959999</td>\n",
       "      <td>30.129999</td>\n",
       "      <td>790317.0</td>\n",
       "    </tr>\n",
       "    <tr>\n",
       "      <th>27169</th>\n",
       "      <td>550</td>\n",
       "      <td>AC.PA</td>\n",
       "      <td>2023-02-01</td>\n",
       "      <td>29.860001</td>\n",
       "      <td>29.920000</td>\n",
       "      <td>30.299999</td>\n",
       "      <td>29.840000</td>\n",
       "      <td>652883.0</td>\n",
       "    </tr>\n",
       "    <tr>\n",
       "      <th>27170</th>\n",
       "      <td>549</td>\n",
       "      <td>AC.PA</td>\n",
       "      <td>2023-01-31</td>\n",
       "      <td>29.799999</td>\n",
       "      <td>29.770000</td>\n",
       "      <td>29.860001</td>\n",
       "      <td>29.549999</td>\n",
       "      <td>809918.0</td>\n",
       "    </tr>\n",
       "    <tr>\n",
       "      <th>27171</th>\n",
       "      <td>548</td>\n",
       "      <td>AC.PA</td>\n",
       "      <td>2023-01-30</td>\n",
       "      <td>29.760000</td>\n",
       "      <td>29.700001</td>\n",
       "      <td>29.860001</td>\n",
       "      <td>29.379999</td>\n",
       "      <td>549040.0</td>\n",
       "    </tr>\n",
       "    <tr>\n",
       "      <th>...</th>\n",
       "      <td>...</td>\n",
       "      <td>...</td>\n",
       "      <td>...</td>\n",
       "      <td>...</td>\n",
       "      <td>...</td>\n",
       "      <td>...</td>\n",
       "      <td>...</td>\n",
       "      <td>...</td>\n",
       "    </tr>\n",
       "    <tr>\n",
       "      <th>27715</th>\n",
       "      <td>4</td>\n",
       "      <td>AC.PA</td>\n",
       "      <td>2020-12-18</td>\n",
       "      <td>29.580000</td>\n",
       "      <td>29.540001</td>\n",
       "      <td>30.100000</td>\n",
       "      <td>29.340000</td>\n",
       "      <td>1033501.0</td>\n",
       "    </tr>\n",
       "    <tr>\n",
       "      <th>27716</th>\n",
       "      <td>3</td>\n",
       "      <td>AC.PA</td>\n",
       "      <td>2020-12-17</td>\n",
       "      <td>29.750000</td>\n",
       "      <td>29.770000</td>\n",
       "      <td>30.000000</td>\n",
       "      <td>29.480000</td>\n",
       "      <td>677096.0</td>\n",
       "    </tr>\n",
       "    <tr>\n",
       "      <th>27717</th>\n",
       "      <td>2</td>\n",
       "      <td>AC.PA</td>\n",
       "      <td>2020-12-16</td>\n",
       "      <td>30.230000</td>\n",
       "      <td>29.629999</td>\n",
       "      <td>30.400000</td>\n",
       "      <td>29.360001</td>\n",
       "      <td>650601.0</td>\n",
       "    </tr>\n",
       "    <tr>\n",
       "      <th>27718</th>\n",
       "      <td>1</td>\n",
       "      <td>AC.PA</td>\n",
       "      <td>2020-12-15</td>\n",
       "      <td>29.430000</td>\n",
       "      <td>29.990000</td>\n",
       "      <td>30.030001</td>\n",
       "      <td>29.010000</td>\n",
       "      <td>1116363.0</td>\n",
       "    </tr>\n",
       "    <tr>\n",
       "      <th>27719</th>\n",
       "      <td>0</td>\n",
       "      <td>AC.PA</td>\n",
       "      <td>2020-12-14</td>\n",
       "      <td>30.270000</td>\n",
       "      <td>29.480000</td>\n",
       "      <td>30.360001</td>\n",
       "      <td>29.420000</td>\n",
       "      <td>786593.0</td>\n",
       "    </tr>\n",
       "  </tbody>\n",
       "</table>\n",
       "<p>553 rows × 8 columns</p>\n",
       "</div>"
      ],
      "text/plain": [
       "       Unnamed: 0   Name       Date       Open      Close  Daily_High  \\\n",
       "27167         552  AC.PA 2023-02-03  30.740000  31.090000   31.090000   \n",
       "27168         551  AC.PA 2023-02-02  30.129999  30.799999   30.959999   \n",
       "27169         550  AC.PA 2023-02-01  29.860001  29.920000   30.299999   \n",
       "27170         549  AC.PA 2023-01-31  29.799999  29.770000   29.860001   \n",
       "27171         548  AC.PA 2023-01-30  29.760000  29.700001   29.860001   \n",
       "...           ...    ...        ...        ...        ...         ...   \n",
       "27715           4  AC.PA 2020-12-18  29.580000  29.540001   30.100000   \n",
       "27716           3  AC.PA 2020-12-17  29.750000  29.770000   30.000000   \n",
       "27717           2  AC.PA 2020-12-16  30.230000  29.629999   30.400000   \n",
       "27718           1  AC.PA 2020-12-15  29.430000  29.990000   30.030001   \n",
       "27719           0  AC.PA 2020-12-14  30.270000  29.480000   30.360001   \n",
       "\n",
       "       Daily_Low     Volume  \n",
       "27167  30.610001   696597.0  \n",
       "27168  30.129999   790317.0  \n",
       "27169  29.840000   652883.0  \n",
       "27170  29.549999   809918.0  \n",
       "27171  29.379999   549040.0  \n",
       "...          ...        ...  \n",
       "27715  29.340000  1033501.0  \n",
       "27716  29.480000   677096.0  \n",
       "27717  29.360001   650601.0  \n",
       "27718  29.010000  1116363.0  \n",
       "27719  29.420000   786593.0  \n",
       "\n",
       "[553 rows x 8 columns]"
      ]
     },
     "execution_count": 18,
     "metadata": {},
     "output_type": "execute_result"
    }
   ],
   "source": [
    "data"
   ]
  },
  {
   "cell_type": "markdown",
   "metadata": {
    "papermill": {
     "duration": 0.294167,
     "end_time": "2023-04-08T14:10:55.594507",
     "exception": false,
     "start_time": "2023-04-08T14:10:55.300340",
     "status": "completed"
    },
    "tags": []
   },
   "source": [
    "# Inference "
   ]
  },
  {
   "cell_type": "code",
   "execution_count": 19,
   "metadata": {
    "papermill": {
     "duration": 0.330511,
     "end_time": "2023-04-08T14:10:56.220115",
     "exception": false,
     "start_time": "2023-04-08T14:10:55.889604",
     "status": "completed"
    },
    "tags": []
   },
   "outputs": [
    {
     "name": "stdout",
     "output_type": "stream",
     "text": [
      "Original DataFrame:\n",
      "<class 'pandas.core.frame.DataFrame'>\n",
      "RangeIndex: 27720 entries, 0 to 27719\n",
      "Data columns (total 8 columns):\n",
      " #   Column         Non-Null Count  Dtype         \n",
      "---  ------         --------------  -----         \n",
      " 0   Unnamed: 0     27720 non-null  int64         \n",
      " 1   Name           27720 non-null  object        \n",
      " 2   Date           27720 non-null  datetime64[ns]\n",
      " 3   Open           27720 non-null  float64       \n",
      " 4   Closing_Price  27720 non-null  float64       \n",
      " 5   Daily_High     27720 non-null  float64       \n",
      " 6   Daily_Low      27720 non-null  float64       \n",
      " 7   Volume         27720 non-null  float64       \n",
      "dtypes: datetime64[ns](1), float64(5), int64(1), object(1)\n",
      "memory usage: 1.7+ MB\n",
      "None\n",
      "Filtered by Company (AC.PA):\n",
      "<class 'pandas.core.frame.DataFrame'>\n",
      "Int64Index: 770 entries, 26950 to 27719\n",
      "Data columns (total 8 columns):\n",
      " #   Column         Non-Null Count  Dtype         \n",
      "---  ------         --------------  -----         \n",
      " 0   Unnamed: 0     770 non-null    int64         \n",
      " 1   Name           770 non-null    object        \n",
      " 2   Date           770 non-null    datetime64[ns]\n",
      " 3   Open           770 non-null    float64       \n",
      " 4   Closing_Price  770 non-null    float64       \n",
      " 5   Daily_High     770 non-null    float64       \n",
      " 6   Daily_Low      770 non-null    float64       \n",
      " 7   Volume         770 non-null    float64       \n",
      "dtypes: datetime64[ns](1), float64(5), int64(1), object(1)\n",
      "memory usage: 54.1+ KB\n",
      "None\n",
      "Filtered by Date Range (2023-02-05 02:38:07.026312 to 2024-02-05 02:41:18.509497):\n",
      "<class 'pandas.core.frame.DataFrame'>\n",
      "Int64Index: 217 entries, 26950 to 27166\n",
      "Data columns (total 8 columns):\n",
      " #   Column         Non-Null Count  Dtype         \n",
      "---  ------         --------------  -----         \n",
      " 0   Unnamed: 0     217 non-null    int64         \n",
      " 1   Name           217 non-null    object        \n",
      " 2   Date           217 non-null    datetime64[ns]\n",
      " 3   Open           217 non-null    float64       \n",
      " 4   Closing_Price  217 non-null    float64       \n",
      " 5   Daily_High     217 non-null    float64       \n",
      " 6   Daily_Low      217 non-null    float64       \n",
      " 7   Volume         217 non-null    float64       \n",
      "dtypes: datetime64[ns](1), float64(5), int64(1), object(1)\n",
      "memory usage: 15.3+ KB\n",
      "None\n",
      "770\n",
      "217\n",
      "60\n"
     ]
    }
   ],
   "source": [
    "# Load test data for the specified company and date range\n",
    "test_data = load_data(\n",
    "    company=COMPANY,\n",
    "    start=START_DATE_TEST,\n",
    "    end=dt.datetime.now()\n",
    ")\n",
    "\n",
    "# Extract the actual closing prices from the test data\n",
    "actual_prices = test_data['Close'].values\n",
    "\n",
    "# Concatenate the training and test data along the 'Close' column\n",
    "total_dataset = pd.concat((data['Close'], test_data['Close']), axis=0)\n",
    "\n",
    "# Extract the relevant portion of the dataset for model inputs\n",
    "model_inputs = total_dataset[len(total_dataset) - len(test_data) - prediction_days:].values\n",
    "\n",
    "print(len(total_dataset))\n",
    "print(len(test_data))\n",
    "print(prediction_days)\n",
    "# Reshape the model inputs to a 2D array with a single column\n",
    "model_inputs = model_inputs.reshape(-1, 1)\n",
    "\n",
    "# Apply the same scaling used for training data to the model inputs\n",
    "model_inputs = scaler.transform(model_inputs)\n"
   ]
  },
  {
   "cell_type": "code",
   "execution_count": 20,
   "metadata": {},
   "outputs": [
    {
     "data": {
      "text/plain": [
       "60"
      ]
     },
     "execution_count": 20,
     "metadata": {},
     "output_type": "execute_result"
    }
   ],
   "source": [
    "prediction_days"
   ]
  },
  {
   "cell_type": "code",
   "execution_count": 21,
   "metadata": {
    "tags": []
   },
   "outputs": [
    {
     "data": {
      "text/plain": [
       "277"
      ]
     },
     "execution_count": 21,
     "metadata": {},
     "output_type": "execute_result"
    }
   ],
   "source": [
    "len(model_inputs)"
   ]
  },
  {
   "cell_type": "code",
   "execution_count": 22,
   "metadata": {
    "papermill": {
     "duration": 1.401348,
     "end_time": "2023-04-08T14:10:57.926956",
     "exception": false,
     "start_time": "2023-04-08T14:10:56.525608",
     "status": "completed"
    },
    "tags": []
   },
   "outputs": [
    {
     "name": "stdout",
     "output_type": "stream",
     "text": [
      "[[0.9729355  0.95836235 0.91394879 ... 0.60166552 0.62664822 0.59125611]\n",
      " [0.95836235 0.91394879 0.95836235 ... 0.62664822 0.59125611 0.99097868]\n",
      " [0.91394879 0.95836235 0.97362961 ... 0.59125611 0.99097868 0.9729355 ]\n",
      " ...\n",
      " [0.77654424 0.77793194 0.74947962 ... 0.62317846 0.59195009 0.6821653 ]\n",
      " [0.77793194 0.74947962 0.75503131 ... 0.59195009 0.6821653  0.69743243]\n",
      " [0.74947962 0.75503131 0.76405277 ... 0.6821653  0.69743243 0.67036793]]\n",
      "x_test shape:  (217, 60)\n",
      "7/7 [==============================] - 1s 12ms/step\n"
     ]
    }
   ],
   "source": [
    "# Initialize an empty list for test data input\n",
    "x_test = []\n",
    "\n",
    "# Iterate through the model inputs, starting from the prediction_days index\n",
    "for x in range(prediction_days, len(model_inputs)):\n",
    "    \n",
    "    #print(model_inputs[x-prediction_days:x, 0])\n",
    "    # Append the previous 'prediction_days' values to x_test\n",
    "    x_test.append(model_inputs[x-prediction_days:x, 0])\n",
    "\n",
    "\n",
    "    \n",
    "# Convert the x_test list to a numpy array\n",
    "x_test = np.array(x_test)\n",
    "print(x_test)\n",
    "print(\"x_test shape: \", x_test.shape)\n",
    "\n",
    "# Reshape x_test to a 3D array with the appropriate dimensions for the LSTM model\n",
    "x_test = np.reshape(x_test, (x_test.shape[0], x_test.shape[1], 1))\n",
    "\n",
    "# Generate price predictions using the LSTM model\n",
    "predicted_prices = model.predict(x_test)\n",
    "\n",
    "# Invert the scaling applied to the predicted prices to obtain actual values\n",
    "predicted_prices = scaler.inverse_transform(predicted_prices)"
   ]
  },
  {
   "cell_type": "code",
   "execution_count": 23,
   "metadata": {
    "papermill": {
     "duration": 0.561567,
     "end_time": "2023-04-08T14:10:58.786466",
     "exception": false,
     "start_time": "2023-04-08T14:10:58.224899",
     "status": "completed"
    },
    "tags": []
   },
   "outputs": [
    {
     "data": {
      "image/png": "[encoded data removed]",
      "text/plain": [
       "<Figure size 640x480 with 1 Axes>"
      ]
     },
     "metadata": {},
     "output_type": "display_data"
    }
   ],
   "source": [
    "# Plot the actual prices using a black line\n",
    "plt.plot(actual_prices, color='black', label=f\"Actual {COMPANY} price\")\n",
    "\n",
    "# Plot the predicted prices using a green line\n",
    "plt.plot(predicted_prices, color='green', label=f\"Predicted {COMPANY} price\")\n",
    "\n",
    "# Set the title of the plot using the company name\n",
    "plt.title(f\"{COMPANY} share price\")\n",
    "\n",
    "# Set the x-axis label as 'time'\n",
    "plt.xlabel(\"time\")\n",
    "\n",
    "# Set the y-axis label using the company name\n",
    "plt.ylabel(f\"{COMPANY} share price\")\n",
    "\n",
    "# Display a legend to differentiate the actual and predicted prices\n",
    "plt.legend()\n",
    "\n",
    "# Show the plot on the screen\n",
    "plt.show()"
   ]
  },
  {
   "cell_type": "code",
   "execution_count": 37,
   "metadata": {
    "papermill": {
     "duration": 1.324879,
     "end_time": "2023-04-08T14:11:00.414122",
     "exception": false,
     "start_time": "2023-04-08T14:10:59.089243",
     "status": "completed"
    },
    "tags": []
   },
   "outputs": [
    {
     "name": "stdout",
     "output_type": "stream",
     "text": [
      "1/1 [==============================] - 0s 47ms/step\n",
      "Prediction: 29.84441375732422\n",
      "real: 31.96999931335449\n"
     ]
    }
   ],
   "source": [
    "# Extract the last 'prediction_days' values from the model inputs\n",
    "real_data = [model_inputs[len(model_inputs) + 1 - prediction_days:len(model_inputs + 1), 0]]\n",
    "\n",
    "# Convert the real_data list to a numpy array\n",
    "real_data = np.array(real_data)\n",
    "\n",
    "# Reshape real_data to a 3D array with the appropriate dimensions for the LSTM model\n",
    "real_data = np.reshape(real_data, (real_data.shape[0], real_data.shape[1], 1))\n",
    "\n",
    "# Generate a prediction using the LSTM model with the real_data input\n",
    "prediction = model.predict(real_data)\n",
    "\n",
    "# Invert the scaling applied to the prediction to obtain the actual value\n",
    "prediction = scaler.inverse_transform(prediction)\n",
    "\n",
    "real_data_vis = scaler.inverse_transform(real_data[0])\n",
    "\n",
    "real_data_vis[0][0]\n",
    "\n",
    "# Print the prediction result to the console\n",
    "print(f\"Prediction: {prediction[0][0]}\")\n",
    "print(f\"real: {real_data_vis[0][0]}\")"
   ]
  },
  {
   "cell_type": "markdown",
   "metadata": {
    "papermill": {
     "duration": 0.300473,
     "end_time": "2023-04-08T14:11:01.613647",
     "exception": false,
     "start_time": "2023-04-08T14:11:01.313174",
     "status": "completed"
    },
    "tags": []
   },
   "source": [
    "# References\n",
    "\n",
    "* <a href = 'https://www.kaggle.com/bryanb'>Based on work done by Brynab</a>\n",
    "* <a href = 'http://colah.github.io/posts/2015-08-Understanding-LSTMs/'>LSTM Explanations</a>"
   ]
  }
 ],
 "metadata": {
  "kernelspec": {
   "display_name": "Python 3 (ipykernel)",
   "language": "python",
   "name": "python3"
  },
  "language_info": {
   "codemirror_mode": {
    "name": "ipython",
    "version": 3
   },
   "file_extension": ".py",
   "mimetype": "text/x-python",
   "name": "python",
   "nbconvert_exporter": "python",
   "pygments_lexer": "ipython3",
   "version": "3.11.3"
  },
  "papermill": {
   "default_parameters": {},
   "duration": 103.659534,
   "end_time": "2023-04-08T14:11:03.925756",
   "environment_variables": {},
   "exception": null,
   "input_path": "__notebook__.ipynb",
   "output_path": "__notebook__.ipynb",
   "parameters": {},
   "start_time": "2023-04-08T14:09:20.266222",
   "version": "2.2.2"
  }
 },
 "nbformat": 4,
 "nbformat_minor": 4
}
