{
 "cells": [
  {
   "cell_type": "markdown",
   "id": "63a8f561",
   "metadata": {
    "papermill": {
     "duration": 0.004417,
     "end_time": "2023-04-08T14:22:32.857670",
     "exception": false,
     "start_time": "2023-04-08T14:22:32.853253",
     "status": "completed"
    },
    "tags": []
   },
   "source": [
    "<div align='center'><font size=\"5\" color='#353B47'>Scrap Stock Price</font></div>\n",
    "<div align='center'><font size=\"4\" color=\"#353B47\">CAC40</font></div>\n",
    "<br>\n",
    "<hr>"
   ]
  },
  {
   "cell_type": "markdown",
   "id": "1b6c5494",
   "metadata": {
    "papermill": {
     "duration": 0.002945,
     "end_time": "2023-04-08T14:22:32.870519",
     "exception": false,
     "start_time": "2023-04-08T14:22:32.867574",
     "status": "completed"
    },
    "tags": []
   },
   "source": [
    "# Imports"
   ]
  },
  {
   "cell_type": "code",
   "execution_count": 1,
   "id": "f23ba9e5",
   "metadata": {
    "papermill": {
     "duration": 0.216551,
     "end_time": "2023-04-08T14:22:45.628700",
     "exception": false,
     "start_time": "2023-04-08T14:22:45.412149",
     "status": "completed"
    },
    "tags": []
   },
   "outputs": [],
   "source": [
    "import yfinance as yf\n",
    "import datetime\n",
    "import csv\n",
    "import pandas as pd"
   ]
  },
  {
   "cell_type": "markdown",
   "id": "adf65d7b",
   "metadata": {
    "papermill": {
     "duration": 0.003764,
     "end_time": "2023-04-08T14:22:45.636597",
     "exception": false,
     "start_time": "2023-04-08T14:22:45.632833",
     "status": "completed"
    },
    "tags": []
   },
   "source": [
    "# Settings"
   ]
  },
  {
   "cell_type": "code",
   "execution_count": 2,
   "id": "8cfb2b8d",
   "metadata": {
    "papermill": {
     "duration": 0.018843,
     "end_time": "2023-04-08T14:22:45.659399",
     "exception": false,
     "start_time": "2023-04-08T14:22:45.640556",
     "status": "completed"
    },
    "tags": []
   },
   "outputs": [],
   "source": [
    "# Define date range and list Stocks, Last three year\n",
    "start_date = datetime.datetime.now() - datetime.timedelta(days=365*3)\n",
    "end_date = datetime.datetime.now()\n",
    "\n",
    "# List of CAC40 stock symbols\n",
    "cac40_stocks = [\n",
    "    'AC.PA',    # Accor\n",
    "    'AI.PA',    # Air Liquide\n",
    "    'AIR.PA',   # Airbus\n",
    "    'ALO.PA',   # Alstom\n",
    "    'MT.PA',    # ArcelorMittal\n",
    "    'CS.PA',    # AXA\n",
    "    'BN.PA',    # Danone\n",
    "    'EN.PA',    # Bouygues\n",
    "    'CAP.PA',   # Capgemini\n",
    "    'CA.PA',    # Carrefour\n",
    "    'ACA.PA',   # Crédit Agricole\n",
    "    'BNP.PA',   # BNP Paribas\n",
    "    'ENGI.PA',  # ENGIE\n",
    "    'EL.PA',    # EssilorLuxottica\n",
    "    'RMS.PA',   # Hermès\n",
    "    'OR.PA',    # L'Oréal\n",
    "    'LR.PA',    # Legrand\n",
    "    'MC.PA',    # LVMH\n",
    "    'ML.PA',    # Michelin\n",
    "    'ORA.PA',   # Orange\n",
    "    'RI.PA',    # Pernod Ricard\n",
    "    'UG.PA',    # Peugeot\n",
    "    'PUB.PA',   # Publicis Groupe\n",
    "    'RNO.PA',   # Renault\n",
    "    'SAF.PA',   # Safran\n",
    "    'SGO.PA',   # Saint-Gobain\n",
    "    'SAN.PA',   # Sanofi\n",
    "    'SU.PA',    # Schneider Electric\n",
    "    'GLE.PA',   # Société Générale\n",
    "    'SW.PA',    # Sodexo\n",
    "    'STM.PA',   # STMicroelectronics\n",
    "    'HO.PA',    # Thales\n",
    "    'FP.PA',    # TotalEnergies\n",
    "    'ATO.PA',   # Atos\n",
    "    'VIE.PA',   # Veolia\n",
    "    'DG.PA',    # Vinci\n",
    "    'VIV.PA',   # Vivendi\n",
    "    'WLN.PA',   # Worldline\n",
    "    'KER.PA',   # Kering\n",
    "    'FR.PA'     # Valeo\n",
    "]"
   ]
  },
  {
   "cell_type": "markdown",
   "id": "1ba8d9c8",
   "metadata": {
    "papermill": {
     "duration": 0.003733,
     "end_time": "2023-04-08T14:22:45.667316",
     "exception": false,
     "start_time": "2023-04-08T14:22:45.663583",
     "status": "completed"
    },
    "tags": []
   },
   "source": [
    "# Download"
   ]
  },
  {
   "cell_type": "code",
   "execution_count": 3,
   "id": "39cdf123",
   "metadata": {
    "papermill": {
     "duration": 0.015202,
     "end_time": "2023-04-08T14:22:45.686386",
     "exception": false,
     "start_time": "2023-04-08T14:22:45.671184",
     "status": "completed"
    },
    "tags": []
   },
   "outputs": [],
   "source": [
    "# Function to download stock data\n",
    "def download_stock_data(stock, start_date, end_date):\n",
    "    \"\"\"\n",
    "    Download historical stock data from Yahoo Finance for a given stock symbol and date range.\n",
    "\n",
    "    :param stock: The stock symbol (ticker) for which to download the data, e.g., 'AAPL' for Apple Inc.\n",
    "    \"\"\"\n",
    "    # Download the historical stock data for the given stock symbol and date range\n",
    "    stock_data = yf.download(stock, start=start_date, end=end_date)\n",
    "\n",
    "    # Reset the DataFrame index to make 'Date' a column instead of the index\n",
    "    stock_data.reset_index(inplace=True)\n",
    "\n",
    "    # Add a 'Stock' column to the DataFrame and set its value to the stock symbol\n",
    "    stock_data['Stock'] = stock\n",
    "\n",
    "    return stock_data"
   ]
  },
  {
   "cell_type": "code",
   "execution_count": 4,
   "id": "478acc46",
   "metadata": {
    "papermill": {
     "duration": 0.015142,
     "end_time": "2023-04-08T14:22:45.705713",
     "exception": false,
     "start_time": "2023-04-08T14:22:45.690571",
     "status": "completed"
    },
    "tags": []
   },
   "outputs": [],
   "source": [
    "def aggregate_stocks(stocks, output_path, start_date, end_date):\n",
    "    \n",
    "    \"\"\"\n",
    "    Download historical stock data for a list of stock symbols and save the data in a CSV file.\n",
    "\n",
    "    \"\"\"\n",
    "    # Initialize an empty list to store the DataFrames for each stock\n",
    "    all_stock_data = []\n",
    "\n",
    "    # Download stock data for each stock symbol in the list\n",
    "    for stock in stocks:\n",
    "        stock_data = download_stock_data(stock, start_date, end_date)\n",
    "        all_stock_data.append(stock_data)\n",
    "\n",
    "    # Concatenate the DataFrames for each stock into a single DataFrame\n",
    "    all_stock_data_df = pd.concat(all_stock_data, ignore_index=True)\n",
    "\n",
    "    # Save the aggregated stock data to a CSV file\n",
    "    all_stock_data_df.to_csv(output_path, index=False)\n",
    "    \n",
    "    return all_stock_data_df"
   ]
  },
  {
   "cell_type": "code",
   "execution_count": 5,
   "id": "c6f39786",
   "metadata": {
    "papermill": {
     "duration": 12.67296,
     "end_time": "2023-04-08T14:22:58.382882",
     "exception": false,
     "start_time": "2023-04-08T14:22:45.709922",
     "status": "completed"
    },
    "tags": []
   },
   "outputs": [
    {
     "name": "stdout",
     "output_type": "stream",
     "text": [
      "[*********************100%%**********************]  1 of 1 completed\n",
      "[*********************100%%**********************]  1 of 1 completed\n",
      "[*********************100%%**********************]  1 of 1 completed\n",
      "[*********************100%%**********************]  1 of 1 completed\n",
      "[*********************100%%**********************]  1 of 1 completed"
     ]
    },
    {
     "name": "stderr",
     "output_type": "stream",
     "text": [
      "\n",
      "1 Failed download:\n",
      "['MT.PA']: Exception('%ticker%: No price data found, symbol may be delisted (1d 2020-12-12 17:59:54.865267 -> 2023-12-12 17:59:54.865267)')\n"
     ]
    },
    {
     "name": "stdout",
     "output_type": "stream",
     "text": [
      "\n",
      "[*********************100%%**********************]  1 of 1 completed\n",
      "[*********************100%%**********************]  1 of 1 completed\n",
      "[*********************100%%**********************]  1 of 1 completed\n",
      "[*********************100%%**********************]  1 of 1 completed\n",
      "[*********************100%%**********************]  1 of 1 completed\n",
      "[*********************100%%**********************]  1 of 1 completed\n",
      "[*********************100%%**********************]  1 of 1 completed\n",
      "[*********************100%%**********************]  1 of 1 completed\n",
      "[*********************100%%**********************]  1 of 1 completed\n",
      "[*********************100%%**********************]  1 of 1 completed\n",
      "[*********************100%%**********************]  1 of 1 completed\n",
      "[*********************100%%**********************]  1 of 1 completed\n",
      "[*********************100%%**********************]  1 of 1 completed\n",
      "[*********************100%%**********************]  1 of 1 completed\n",
      "[*********************100%%**********************]  1 of 1 completed\n",
      "[*********************100%%**********************]  1 of 1 completed\n",
      "[*********************100%%**********************]  1 of 1 completed"
     ]
    },
    {
     "name": "stderr",
     "output_type": "stream",
     "text": [
      "\n",
      "1 Failed download:\n",
      "['UG.PA']: Exception('%ticker%: No timezone found, symbol may be delisted')\n"
     ]
    },
    {
     "name": "stdout",
     "output_type": "stream",
     "text": [
      "\n",
      "[*********************100%%**********************]  1 of 1 completed\n",
      "[*********************100%%**********************]  1 of 1 completed\n",
      "[*********************100%%**********************]  1 of 1 completed\n",
      "[*********************100%%**********************]  1 of 1 completed\n",
      "[*********************100%%**********************]  1 of 1 completed\n",
      "[*********************100%%**********************]  1 of 1 completed\n",
      "[*********************100%%**********************]  1 of 1 completed\n",
      "[*********************100%%**********************]  1 of 1 completed\n",
      "[*********************100%%**********************]  1 of 1 completed"
     ]
    },
    {
     "name": "stderr",
     "output_type": "stream",
     "text": [
      "\n",
      "1 Failed download:\n",
      "['STM.PA']: Exception('%ticker%: No timezone found, symbol may be delisted')\n"
     ]
    },
    {
     "name": "stdout",
     "output_type": "stream",
     "text": [
      "\n",
      "[*********************100%%**********************]  1 of 1 completed\n",
      "[*********************100%%**********************]  1 of 1 completed"
     ]
    },
    {
     "name": "stderr",
     "output_type": "stream",
     "text": [
      "\n",
      "1 Failed download:\n",
      "['FP.PA']: Exception('%ticker%: No timezone found, symbol may be delisted')\n"
     ]
    },
    {
     "name": "stdout",
     "output_type": "stream",
     "text": [
      "\n",
      "[*********************100%%**********************]  1 of 1 completed\n",
      "[*********************100%%**********************]  1 of 1 completed\n",
      "[*********************100%%**********************]  1 of 1 completed\n",
      "[*********************100%%**********************]  1 of 1 completed\n",
      "[*********************100%%**********************]  1 of 1 completed\n",
      "[*********************100%%**********************]  1 of 1 completed\n",
      "[*********************100%%**********************]  1 of 1 completed\n"
     ]
    },
    {
     "data": {
      "text/html": [
       "<div>\n",
       "<style scoped>\n",
       "    .dataframe tbody tr th:only-of-type {\n",
       "        vertical-align: middle;\n",
       "    }\n",
       "\n",
       "    .dataframe tbody tr th {\n",
       "        vertical-align: top;\n",
       "    }\n",
       "\n",
       "    .dataframe thead th {\n",
       "        text-align: right;\n",
       "    }\n",
       "</style>\n",
       "<table border=\"1\" class=\"dataframe\">\n",
       "  <thead>\n",
       "    <tr style=\"text-align: right;\">\n",
       "      <th></th>\n",
       "      <th>Date</th>\n",
       "      <th>Open</th>\n",
       "      <th>High</th>\n",
       "      <th>Low</th>\n",
       "      <th>Close</th>\n",
       "      <th>Adj Close</th>\n",
       "      <th>Volume</th>\n",
       "      <th>Stock</th>\n",
       "    </tr>\n",
       "  </thead>\n",
       "  <tbody>\n",
       "    <tr>\n",
       "      <th>0</th>\n",
       "      <td>2020-12-14</td>\n",
       "      <td>30.27</td>\n",
       "      <td>30.360001</td>\n",
       "      <td>29.420000</td>\n",
       "      <td>29.480000</td>\n",
       "      <td>29.174135</td>\n",
       "      <td>786593.0</td>\n",
       "      <td>AC.PA</td>\n",
       "    </tr>\n",
       "    <tr>\n",
       "      <th>1</th>\n",
       "      <td>2020-12-15</td>\n",
       "      <td>29.43</td>\n",
       "      <td>30.030001</td>\n",
       "      <td>29.010000</td>\n",
       "      <td>29.990000</td>\n",
       "      <td>29.678844</td>\n",
       "      <td>1116363.0</td>\n",
       "      <td>AC.PA</td>\n",
       "    </tr>\n",
       "    <tr>\n",
       "      <th>2</th>\n",
       "      <td>2020-12-16</td>\n",
       "      <td>30.23</td>\n",
       "      <td>30.400000</td>\n",
       "      <td>29.360001</td>\n",
       "      <td>29.629999</td>\n",
       "      <td>29.322578</td>\n",
       "      <td>650601.0</td>\n",
       "      <td>AC.PA</td>\n",
       "    </tr>\n",
       "    <tr>\n",
       "      <th>3</th>\n",
       "      <td>2020-12-17</td>\n",
       "      <td>29.75</td>\n",
       "      <td>30.000000</td>\n",
       "      <td>29.480000</td>\n",
       "      <td>29.770000</td>\n",
       "      <td>29.461126</td>\n",
       "      <td>677096.0</td>\n",
       "      <td>AC.PA</td>\n",
       "    </tr>\n",
       "    <tr>\n",
       "      <th>4</th>\n",
       "      <td>2020-12-18</td>\n",
       "      <td>29.58</td>\n",
       "      <td>30.100000</td>\n",
       "      <td>29.340000</td>\n",
       "      <td>29.540001</td>\n",
       "      <td>29.233515</td>\n",
       "      <td>1033501.0</td>\n",
       "      <td>AC.PA</td>\n",
       "    </tr>\n",
       "  </tbody>\n",
       "</table>\n",
       "</div>"
      ],
      "text/plain": [
       "        Date   Open       High        Low      Close  Adj Close     Volume  \\\n",
       "0 2020-12-14  30.27  30.360001  29.420000  29.480000  29.174135   786593.0   \n",
       "1 2020-12-15  29.43  30.030001  29.010000  29.990000  29.678844  1116363.0   \n",
       "2 2020-12-16  30.23  30.400000  29.360001  29.629999  29.322578   650601.0   \n",
       "3 2020-12-17  29.75  30.000000  29.480000  29.770000  29.461126   677096.0   \n",
       "4 2020-12-18  29.58  30.100000  29.340000  29.540001  29.233515  1033501.0   \n",
       "\n",
       "   Stock  \n",
       "0  AC.PA  \n",
       "1  AC.PA  \n",
       "2  AC.PA  \n",
       "3  AC.PA  \n",
       "4  AC.PA  "
      ]
     },
     "execution_count": 5,
     "metadata": {},
     "output_type": "execute_result"
    }
   ],
   "source": [
    "all_stock_data_df = aggregate_stocks(\n",
    "    stocks = cac40_stocks, \n",
    "    output_path = 'cac40_stock_data.csv',\n",
    "    start_date=start_date,\n",
    "    end_date=end_date\n",
    ")\n",
    "all_stock_data_df.head()"
   ]
  },
  {
   "cell_type": "code",
   "execution_count": null,
   "id": "ed41202c-dee7-4e4a-afcd-68bd724444ec",
   "metadata": {},
   "outputs": [],
   "source": []
  },
  {
   "cell_type": "code",
   "execution_count": null,
   "id": "6b4cd52c-1ff9-4de7-8b82-0442bdfd3cb7",
   "metadata": {},
   "outputs": [],
   "source": []
  }
 ],
 "metadata": {
  "kernelspec": {
   "display_name": "Python 3 (ipykernel)",
   "language": "python",
   "name": "python3"
  },
  "language_info": {
   "codemirror_mode": {
    "name": "ipython",
    "version": 3
   },
   "file_extension": ".py",
   "mimetype": "text/x-python",
   "name": "python",
   "nbconvert_exporter": "python",
   "pygments_lexer": "ipython3",
   "version": "3.11.3"
  },
  "papermill": {
   "default_parameters": {},
   "duration": 36.211314,
   "end_time": "2023-04-08T14:22:59.133225",
   "environment_variables": {},
   "exception": null,
   "input_path": "__notebook__.ipynb",
   "output_path": "__notebook__.ipynb",
   "parameters": {},
   "start_time": "2023-04-08T14:22:22.921911",
   "version": "2.4.0"
  }
 },
 "nbformat": 4,
 "nbformat_minor": 5
}
